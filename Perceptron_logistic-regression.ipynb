{
  "nbformat": 4,
  "nbformat_minor": 0,
  "metadata": {
    "colab": {
      "provenance": [],
      "authorship_tag": "ABX9TyPoponuzAHMUHgIxK58+TRT",
      "include_colab_link": true
    },
    "kernelspec": {
      "name": "python3",
      "display_name": "Python 3"
    },
    "language_info": {
      "name": "python"
    }
  },
  "cells": [
    {
      "cell_type": "markdown",
      "metadata": {
        "id": "view-in-github",
        "colab_type": "text"
      },
      "source": [
        "<a href=\"https://colab.research.google.com/github/Medouchene/Deep-Learning/blob/main/Perceptron_logistic-regression.ipynb\" target=\"_parent\"><img src=\"https://colab.research.google.com/assets/colab-badge.svg\" alt=\"Open In Colab\"/></a>"
      ]
    },
    {
      "cell_type": "markdown",
      "source": [
        "Perceptron"
      ],
      "metadata": {
        "id": "PDeDw75JkOzF"
      }
    },
    {
      "cell_type": "code",
      "source": [
        "import numpy as np\n",
        "import matplotlib.pyplot as plt\n",
        "import pandas as pd"
      ],
      "metadata": {
        "id": "Z-GsrU-4iH-o"
      },
      "execution_count": null,
      "outputs": []
    },
    {
      "cell_type": "code",
      "execution_count": null,
      "metadata": {
        "id": "e4dhK-fae2xc"
      },
      "outputs": [],
      "source": [
        "# fct prediction\n",
        "def predict(row, weights):\n",
        "    z = weights[0]  # Biais\n",
        "    for i in range(len(row) - 1):\n",
        "        z += weights[i + 1] * row[i]\n",
        "    return 1 if z >= 0 else -1"
      ]
    },
    {
      "cell_type": "code",
      "source": [
        "x = [2, 3, 2, 9, 8, 7]\n",
        "w = [9, 2, 3, 2, 9, 8, 7]\n",
        "print(predict(x, w))"
      ],
      "metadata": {
        "colab": {
          "base_uri": "https://localhost:8080/"
        },
        "id": "5znHJTJcfEEe",
        "outputId": "a9a72dd7-5228-4b20-b76e-122559bf82c8"
      },
      "execution_count": null,
      "outputs": [
        {
          "output_type": "stream",
          "name": "stdout",
          "text": [
            "1\n"
          ]
        }
      ]
    },
    {
      "cell_type": "code",
      "source": [
        "# Load the Drive helper and mount\n",
        "from google.colab import drive\n",
        "drive.mount('/content/drive')"
      ],
      "metadata": {
        "colab": {
          "base_uri": "https://localhost:8080/"
        },
        "id": "TejJDe6ufZt6",
        "outputId": "08bc8521-5c75-4fa1-e447-1bb5aa5afa11"
      },
      "execution_count": null,
      "outputs": [
        {
          "output_type": "stream",
          "name": "stdout",
          "text": [
            "Mounted at /content/drive\n"
          ]
        }
      ]
    },
    {
      "cell_type": "code",
      "source": [],
      "metadata": {
        "id": "V6xTmqCWfrLM"
      },
      "execution_count": null,
      "outputs": []
    },
    {
      "cell_type": "code",
      "source": [
        "df = pd.read_csv(\"/content/drive/MyDrive/M2/ML/Supervised/PREP/TP2/sonar.csv\")\n",
        "print('HEAD :')\n",
        "print(df.head()) #afficher"
      ],
      "metadata": {
        "colab": {
          "base_uri": "https://localhost:8080/"
        },
        "id": "TgH67Z-xfyoV",
        "outputId": "724f090f-6b19-4874-c26c-2c2186131482"
      },
      "execution_count": null,
      "outputs": [
        {
          "output_type": "stream",
          "name": "stdout",
          "text": [
            "HEAD :\n",
            "     0.02  0.0371  0.0428  0.0207  0.0954  0.0986  0.1539  0.1601  0.3109  \\\n",
            "0  0.0453  0.0523  0.0843  0.0689  0.1183  0.2583  0.2156  0.3481  0.3337   \n",
            "1  0.0262  0.0582  0.1099  0.1083  0.0974  0.2280  0.2431  0.3771  0.5598   \n",
            "2  0.0100  0.0171  0.0623  0.0205  0.0205  0.0368  0.1098  0.1276  0.0598   \n",
            "3  0.0762  0.0666  0.0481  0.0394  0.0590  0.0649  0.1209  0.2467  0.3564   \n",
            "4  0.0286  0.0453  0.0277  0.0174  0.0384  0.0990  0.1201  0.1833  0.2105   \n",
            "\n",
            "   0.2111  ...  0.0027  0.0065  0.0159  0.0072  0.0167   0.018  0.0084  \\\n",
            "0  0.2872  ...  0.0084  0.0089  0.0048  0.0094  0.0191  0.0140  0.0049   \n",
            "1  0.6194  ...  0.0232  0.0166  0.0095  0.0180  0.0244  0.0316  0.0164   \n",
            "2  0.1264  ...  0.0121  0.0036  0.0150  0.0085  0.0073  0.0050  0.0044   \n",
            "3  0.4459  ...  0.0031  0.0054  0.0105  0.0110  0.0015  0.0072  0.0048   \n",
            "4  0.3039  ...  0.0045  0.0014  0.0038  0.0013  0.0089  0.0057  0.0027   \n",
            "\n",
            "    0.009  0.0032  1.0  \n",
            "0  0.0052  0.0044  1.0  \n",
            "1  0.0095  0.0078  1.0  \n",
            "2  0.0040  0.0117  1.0  \n",
            "3  0.0107  0.0094  1.0  \n",
            "4  0.0051  0.0062  1.0  \n",
            "\n",
            "[5 rows x 61 columns]\n"
          ]
        }
      ]
    },
    {
      "cell_type": "code",
      "source": [
        "dataset = df.values\n",
        "\n",
        "for row in dataset:\n",
        "    if row[-1] == 0:\n",
        "      row[-1] = -1"
      ],
      "metadata": {
        "id": "0VWh_hJRgC1o"
      },
      "execution_count": null,
      "outputs": []
    },
    {
      "cell_type": "code",
      "source": [
        "# Suppose que la dernière colonne est l'étiquette\n",
        "X = df.iloc[:, :-1].values  # Caractéristiques\n",
        "y = df.iloc[:, -1].values   # Étiquettes\n",
        "weights = np.zeros(X.shape[1] + 1)\n",
        "\n",
        "def evaluate(X, y, weights):\n",
        "    correct_predictions = 0\n",
        "    for i in range(len(X)):\n",
        "        prediction = predict(X[i], weights)\n",
        "        if prediction == y[i]:\n",
        "            correct_predictions += 1\n",
        "    accuracy = correct_predictions / len(y)\n",
        "    return accuracy\n",
        "\n",
        "accuracy = evaluate(X, y, weights)\n",
        "print(f'Précision : {accuracy * 100:.2f}%')"
      ],
      "metadata": {
        "colab": {
          "base_uri": "https://localhost:8080/"
        },
        "id": "e0nWoLM1g4vb",
        "outputId": "aa4b888a-8149-4b0e-a09f-42b7520b8cc4"
      },
      "execution_count": null,
      "outputs": [
        {
          "output_type": "stream",
          "name": "stdout",
          "text": [
            "Précision : 46.38%\n"
          ]
        }
      ]
    },
    {
      "cell_type": "markdown",
      "source": [
        "Logistic Regression"
      ],
      "metadata": {
        "id": "ZKHE1TZSkIWQ"
      }
    },
    {
      "cell_type": "code",
      "source": [
        "from sklearn import linear_model\n",
        "from sklearn.preprocessing import StandardScaler\n",
        "from sklearn.model_selection import train_test_split, KFold\n",
        "from sklearn.metrics import accuracy_score, classification_report"
      ],
      "metadata": {
        "id": "LqLsv_wBoPdZ"
      },
      "execution_count": null,
      "outputs": []
    },
    {
      "cell_type": "code",
      "source": [
        "data = pd.read_csv(\"/content/drive/MyDrive/M2/ML/Supervised/PREP/TP2/banking.csv\")\n",
        "data = data.dropna()\n",
        "print(data.head())"
      ],
      "metadata": {
        "colab": {
          "base_uri": "https://localhost:8080/"
        },
        "id": "CvXzk5YljRxj",
        "outputId": "d9d631d0-d4cd-4b56-ce3f-f5f54a4e32ca"
      },
      "execution_count": null,
      "outputs": [
        {
          "output_type": "stream",
          "name": "stdout",
          "text": [
            "   age          job  marital          education  default housing loan  \\\n",
            "0   44  blue-collar  married           basic.4y  unknown     yes   no   \n",
            "1   53   technician  married            unknown       no      no   no   \n",
            "2   28   management   single  university.degree       no     yes   no   \n",
            "3   39     services  married        high.school       no      no   no   \n",
            "4   55      retired  married           basic.4y       no     yes   no   \n",
            "\n",
            "    contact month day_of_week  ...  campaign  pdays  previous     poutcome  \\\n",
            "0  cellular   aug         thu  ...         1    999         0  nonexistent   \n",
            "1  cellular   nov         fri  ...         1    999         0  nonexistent   \n",
            "2  cellular   jun         thu  ...         3      6         2      success   \n",
            "3  cellular   apr         fri  ...         2    999         0  nonexistent   \n",
            "4  cellular   aug         fri  ...         1      3         1      success   \n",
            "\n",
            "  emp_var_rate  cons_price_idx  cons_conf_idx  euribor3m  nr_employed  y  \n",
            "0          1.4          93.444          -36.1      4.963       5228.1  0  \n",
            "1         -0.1          93.200          -42.0      4.021       5195.8  0  \n",
            "2         -1.7          94.055          -39.8      0.729       4991.6  1  \n",
            "3         -1.8          93.075          -47.1      1.405       5099.1  0  \n",
            "4         -2.9          92.201          -31.4      0.869       5076.2  1  \n",
            "\n",
            "[5 rows x 21 columns]\n"
          ]
        }
      ]
    },
    {
      "cell_type": "code",
      "source": [
        "print(data.info())"
      ],
      "metadata": {
        "colab": {
          "base_uri": "https://localhost:8080/"
        },
        "id": "ShapNYjKkgt3",
        "outputId": "bbdfa034-65a7-4daf-c217-4c698621674f"
      },
      "execution_count": null,
      "outputs": [
        {
          "output_type": "stream",
          "name": "stdout",
          "text": [
            "<class 'pandas.core.frame.DataFrame'>\n",
            "RangeIndex: 41188 entries, 0 to 41187\n",
            "Data columns (total 21 columns):\n",
            " #   Column          Non-Null Count  Dtype  \n",
            "---  ------          --------------  -----  \n",
            " 0   age             41188 non-null  int64  \n",
            " 1   job             41188 non-null  object \n",
            " 2   marital         41188 non-null  object \n",
            " 3   education       41188 non-null  object \n",
            " 4   default         41188 non-null  object \n",
            " 5   housing         41188 non-null  object \n",
            " 6   loan            41188 non-null  object \n",
            " 7   contact         41188 non-null  object \n",
            " 8   month           41188 non-null  object \n",
            " 9   day_of_week     41188 non-null  object \n",
            " 10  duration        41188 non-null  int64  \n",
            " 11  campaign        41188 non-null  int64  \n",
            " 12  pdays           41188 non-null  int64  \n",
            " 13  previous        41188 non-null  int64  \n",
            " 14  poutcome        41188 non-null  object \n",
            " 15  emp_var_rate    41188 non-null  float64\n",
            " 16  cons_price_idx  41188 non-null  float64\n",
            " 17  cons_conf_idx   41188 non-null  float64\n",
            " 18  euribor3m       41188 non-null  float64\n",
            " 19  nr_employed     41188 non-null  float64\n",
            " 20  y               41188 non-null  int64  \n",
            "dtypes: float64(5), int64(6), object(10)\n",
            "memory usage: 6.6+ MB\n",
            "None\n"
          ]
        }
      ]
    },
    {
      "cell_type": "code",
      "source": [
        "categorical_var = [\"job\", \"marital\", \"education\", \"default\", \"housing\", \"loan\", \"contact\", \"month\",\n",
        "                   \"day_of_week\", \"poutcome\"]\n",
        "data_new = data.drop(columns=categorical_var)\n",
        "\n",
        "print(data_new.head())"
      ],
      "metadata": {
        "colab": {
          "base_uri": "https://localhost:8080/"
        },
        "id": "-PbytEFqlRrL",
        "outputId": "80212950-da6c-40bb-8f22-73e1fa912767"
      },
      "execution_count": null,
      "outputs": [
        {
          "output_type": "stream",
          "name": "stdout",
          "text": [
            "   age  duration  campaign  pdays  previous  emp_var_rate  cons_price_idx  \\\n",
            "0   44       210         1    999         0           1.4          93.444   \n",
            "1   53       138         1    999         0          -0.1          93.200   \n",
            "2   28       339         3      6         2          -1.7          94.055   \n",
            "3   39       185         2    999         0          -1.8          93.075   \n",
            "4   55       137         1      3         1          -2.9          92.201   \n",
            "\n",
            "   cons_conf_idx  euribor3m  nr_employed  y  \n",
            "0          -36.1      4.963       5228.1  0  \n",
            "1          -42.0      4.021       5195.8  0  \n",
            "2          -39.8      0.729       4991.6  1  \n",
            "3          -47.1      1.405       5099.1  0  \n",
            "4          -31.4      0.869       5076.2  1  \n"
          ]
        }
      ]
    },
    {
      "cell_type": "code",
      "source": [
        "my_log = linear_model.LogisticRegression()\n"
      ],
      "metadata": {
        "id": "mQRy3Ddrn6VV"
      },
      "execution_count": null,
      "outputs": []
    },
    {
      "cell_type": "code",
      "source": [
        "data_X = data_new.iloc[:, 0:10]\n",
        "data_Y = data_new['y']\n",
        "print(\"Data Y : \", data_Y)"
      ],
      "metadata": {
        "colab": {
          "base_uri": "https://localhost:8080/"
        },
        "id": "vANDhg5_o5pV",
        "outputId": "422dcd77-1333-470e-d82e-ee2d567bac45"
      },
      "execution_count": null,
      "outputs": [
        {
          "output_type": "stream",
          "name": "stdout",
          "text": [
            "Data Y :  0        0\n",
            "1        0\n",
            "2        1\n",
            "3        0\n",
            "4        1\n",
            "        ..\n",
            "41183    0\n",
            "41184    0\n",
            "41185    0\n",
            "41186    0\n",
            "41187    0\n",
            "Name: y, Length: 41188, dtype: int64\n"
          ]
        }
      ]
    },
    {
      "cell_type": "code",
      "source": [
        "# Normalize the feature data, falsafa zayda\n",
        "# scaler = StandardScaler()\n",
        "# data_X_scaled = scaler.fit_transform(data_X)\"\"\"\n",
        "\n",
        "my_log = linear_model.LogisticRegression()\n",
        "\n",
        "my_log.fit(data_X, data_Y)\n",
        "\n",
        "print(\"Model coefficients:\", my_log.coef_) # the output is coeffs wi\n",
        "\n",
        "print(\"Model intercep :\", my_log.intercept_) # P(Y=1/X=x) = 1/(1 + exp(-(w0 +w1x1+ .. )));\n",
        "\n",
        "predictions = my_log.predict(data_X)\n",
        "print(\"Output predictions:\", predictions)\n",
        "\n",
        "score = my_log.score(data_X, data_Y)\n",
        "print(\"Output score (accuracy):\", score)"
      ],
      "metadata": {
        "colab": {
          "base_uri": "https://localhost:8080/"
        },
        "id": "T3PiuYKLpavA",
        "outputId": "15e8c591-8b1e-4104-960b-bf13b2fefe98"
      },
      "execution_count": null,
      "outputs": [
        {
          "output_type": "stream",
          "name": "stdout",
          "text": [
            "Model coefficients: [[ 0.00166099  0.00454397 -0.00847747 -0.00159375 -0.03018196 -0.23634302\n",
            "   0.30504207  0.04473127 -0.26021316 -0.0055078 ]]\n",
            "Model intercep : [0.00314879]\n",
            "Output predictions: [0 0 1 ... 0 0 0]\n",
            "Output score (accuracy): 0.9092939691172186\n"
          ]
        },
        {
          "output_type": "stream",
          "name": "stderr",
          "text": [
            "/usr/local/lib/python3.10/dist-packages/sklearn/linear_model/_logistic.py:469: ConvergenceWarning: lbfgs failed to converge (status=1):\n",
            "STOP: TOTAL NO. of ITERATIONS REACHED LIMIT.\n",
            "\n",
            "Increase the number of iterations (max_iter) or scale the data as shown in:\n",
            "    https://scikit-learn.org/stable/modules/preprocessing.html\n",
            "Please also refer to the documentation for alternative solver options:\n",
            "    https://scikit-learn.org/stable/modules/linear_model.html#logistic-regression\n",
            "  n_iter_i = _check_optimize_result(\n"
          ]
        }
      ]
    },
    {
      "cell_type": "markdown",
      "source": [
        "Hold out evaluation"
      ],
      "metadata": {
        "id": "OwsQBfO-f2_f"
      }
    },
    {
      "cell_type": "code",
      "source": [
        "# Diviser les données en ensembles d'entraînement et de test (70% train, 30% test)\n",
        "X_train, X_test, y_train, y_test = train_test_split(data_X, data_Y, test_size=0.3, random_state=42)\n",
        "\n",
        "# Initialiser le modèle de régression logistique\n",
        "my_log = linear_model.LogisticRegression()\n",
        "my_log.fit(X_train, y_train)  # Entraîner le modèle\n",
        "\n",
        "# Prédire les valeurs sur l'ensemble de test\n",
        "y_pred = my_log.predict(X_test)\n",
        "\n",
        "# Évaluer le modèle\n",
        "accuracy = accuracy_score(y_test, y_pred)\n",
        "report = classification_report(y_test, y_pred)\n",
        "\n",
        "print(\"Accuracy du modèle:\", accuracy)\n",
        "print(\"Rapport de classification:\\n\", report)"
      ],
      "metadata": {
        "colab": {
          "base_uri": "https://localhost:8080/"
        },
        "id": "NnbmCXBNf9Gh",
        "outputId": "4edfcabe-9bda-4689-ceeb-4afee8c396bf"
      },
      "execution_count": null,
      "outputs": [
        {
          "output_type": "stream",
          "name": "stdout",
          "text": [
            "Accuracy du modèle: 0.9043457149793639\n",
            "Rapport de classification:\n",
            "               precision    recall  f1-score   support\n",
            "\n",
            "           0       0.93      0.97      0.95     10931\n",
            "           1       0.64      0.40      0.49      1426\n",
            "\n",
            "    accuracy                           0.90     12357\n",
            "   macro avg       0.78      0.69      0.72     12357\n",
            "weighted avg       0.89      0.90      0.89     12357\n",
            "\n"
          ]
        },
        {
          "output_type": "stream",
          "name": "stderr",
          "text": [
            "/usr/local/lib/python3.10/dist-packages/sklearn/linear_model/_logistic.py:469: ConvergenceWarning: lbfgs failed to converge (status=1):\n",
            "STOP: TOTAL NO. of ITERATIONS REACHED LIMIT.\n",
            "\n",
            "Increase the number of iterations (max_iter) or scale the data as shown in:\n",
            "    https://scikit-learn.org/stable/modules/preprocessing.html\n",
            "Please also refer to the documentation for alternative solver options:\n",
            "    https://scikit-learn.org/stable/modules/linear_model.html#logistic-regression\n",
            "  n_iter_i = _check_optimize_result(\n"
          ]
        }
      ]
    },
    {
      "cell_type": "markdown",
      "source": [
        "Cross Validation"
      ],
      "metadata": {
        "id": "WmC-fWsagZ24"
      }
    },
    {
      "cell_type": "code",
      "source": [
        "import numpy as np\n",
        "from sklearn.linear_model import LogisticRegression\n",
        "from sklearn.model_selection import KFold\n",
        "from sklearn.metrics import accuracy_score\n",
        "\n",
        "# Initialiser KFold\n",
        "kf = KFold(n_splits=5, shuffle=True, random_state=42)  # 5 folds, mélanger les données\n",
        "\n",
        "# Stocker les scores\n",
        "scores = []\n",
        "\n",
        "# Boucle sur les folds\n",
        "for train_index, test_index in kf.split(data_X):\n",
        "    X_train, X_test = data_X.iloc[train_index], data_X.iloc[test_index]  # Utiliser iloc pour accéder aux indices\n",
        "    y_train, y_test = data_Y.iloc[train_index], data_Y.iloc[test_index]  # Utiliser iloc pour accéder aux indices\n",
        "\n",
        "    # Créer et entraîner le modèle\n",
        "    my_log = LogisticRegression(max_iter=1000)  # Assurez-vous d'ajuster max_iter si nécessaire\n",
        "    my_log.fit(X_train, y_train)\n",
        "\n",
        "    # Prédire les valeurs\n",
        "    y_pred = my_log.predict(X_test)\n",
        "\n",
        "    # Évaluer le modèle\n",
        "    score = accuracy_score(y_test, y_pred)\n",
        "    scores.append(score)\n",
        "\n",
        "# Afficher les résultats\n",
        "print(\"Scores de chaque fold:\", scores)\n",
        "print(\"Moyenne de l'accuracy:\", np.mean(scores))\n",
        "print(\"Écart-type de l'accuracy:\", np.std(scores))\n"
      ],
      "metadata": {
        "colab": {
          "base_uri": "https://localhost:8080/"
        },
        "id": "jxg_YkktgcTR",
        "outputId": "2b1a0011-0ce9-48f9-8146-981af282019f"
      },
      "execution_count": null,
      "outputs": [
        {
          "output_type": "stream",
          "name": "stderr",
          "text": [
            "/usr/local/lib/python3.10/dist-packages/sklearn/linear_model/_logistic.py:469: ConvergenceWarning: lbfgs failed to converge (status=1):\n",
            "STOP: TOTAL NO. of ITERATIONS REACHED LIMIT.\n",
            "\n",
            "Increase the number of iterations (max_iter) or scale the data as shown in:\n",
            "    https://scikit-learn.org/stable/modules/preprocessing.html\n",
            "Please also refer to the documentation for alternative solver options:\n",
            "    https://scikit-learn.org/stable/modules/linear_model.html#logistic-regression\n",
            "  n_iter_i = _check_optimize_result(\n",
            "/usr/local/lib/python3.10/dist-packages/sklearn/linear_model/_logistic.py:469: ConvergenceWarning: lbfgs failed to converge (status=1):\n",
            "STOP: TOTAL NO. of ITERATIONS REACHED LIMIT.\n",
            "\n",
            "Increase the number of iterations (max_iter) or scale the data as shown in:\n",
            "    https://scikit-learn.org/stable/modules/preprocessing.html\n",
            "Please also refer to the documentation for alternative solver options:\n",
            "    https://scikit-learn.org/stable/modules/linear_model.html#logistic-regression\n",
            "  n_iter_i = _check_optimize_result(\n",
            "/usr/local/lib/python3.10/dist-packages/sklearn/linear_model/_logistic.py:469: ConvergenceWarning: lbfgs failed to converge (status=1):\n",
            "STOP: TOTAL NO. of ITERATIONS REACHED LIMIT.\n",
            "\n",
            "Increase the number of iterations (max_iter) or scale the data as shown in:\n",
            "    https://scikit-learn.org/stable/modules/preprocessing.html\n",
            "Please also refer to the documentation for alternative solver options:\n",
            "    https://scikit-learn.org/stable/modules/linear_model.html#logistic-regression\n",
            "  n_iter_i = _check_optimize_result(\n"
          ]
        },
        {
          "output_type": "stream",
          "name": "stdout",
          "text": [
            "Scores de chaque fold: [0.9067734887108522, 0.9066521000242778, 0.9119932022335518, 0.9106470802476629, 0.9102828699769333]\n",
            "Moyenne de l'accuracy: 0.9092697482386557\n",
            "Écart-type de l'accuracy: 0.00216444240331353\n"
          ]
        },
        {
          "output_type": "stream",
          "name": "stderr",
          "text": [
            "/usr/local/lib/python3.10/dist-packages/sklearn/linear_model/_logistic.py:469: ConvergenceWarning: lbfgs failed to converge (status=1):\n",
            "STOP: TOTAL NO. of ITERATIONS REACHED LIMIT.\n",
            "\n",
            "Increase the number of iterations (max_iter) or scale the data as shown in:\n",
            "    https://scikit-learn.org/stable/modules/preprocessing.html\n",
            "Please also refer to the documentation for alternative solver options:\n",
            "    https://scikit-learn.org/stable/modules/linear_model.html#logistic-regression\n",
            "  n_iter_i = _check_optimize_result(\n"
          ]
        }
      ]
    }
  ]
}