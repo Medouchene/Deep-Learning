{
  "nbformat": 4,
  "nbformat_minor": 0,
  "metadata": {
    "colab": {
      "provenance": [],
      "authorship_tag": "ABX9TyPUK7ogeHnD1Z87eLYY8m3+",
      "include_colab_link": true
    },
    "kernelspec": {
      "name": "python3",
      "display_name": "Python 3"
    },
    "language_info": {
      "name": "python"
    }
  },
  "cells": [
    {
      "cell_type": "markdown",
      "metadata": {
        "id": "view-in-github",
        "colab_type": "text"
      },
      "source": [
        "<a href=\"https://colab.research.google.com/github/Medouchene/Deep-Learning/blob/main/SVM.ipynb\" target=\"_parent\"><img src=\"https://colab.research.google.com/assets/colab-badge.svg\" alt=\"Open In Colab\"/></a>"
      ]
    },
    {
      "cell_type": "code",
      "execution_count": null,
      "metadata": {
        "colab": {
          "base_uri": "https://localhost:8080/"
        },
        "id": "zHLLwypVK9Op",
        "outputId": "93bdcbe6-2b71-4e67-e56b-0be88215871c"
      },
      "outputs": [
        {
          "output_type": "stream",
          "name": "stdout",
          "text": [
            "Mounted at /content/drive\n"
          ]
        }
      ],
      "source": [
        "from google.colab import drive\n",
        "drive.mount('/content/drive')"
      ]
    },
    {
      "cell_type": "code",
      "source": [
        "import numpy as np\n",
        "import pandas as pd\n",
        "import matplotlib.pyplot as plt\n",
        "from sklearn.svm import SVC, LinearSVC\n",
        "from sklearn.metrics import accuracy_score, confusion_matrix\n",
        "\n",
        "from sklearn.model_selection import cross_val_score, train_test_split\n",
        "from sklearn.metrics import accuracy_score, confusion_matrix, ConfusionMatrixDisplay\n",
        "from sklearn import datasets\n",
        "from sklearn import svm"
      ],
      "metadata": {
        "id": "1PQizDCvLXyO"
      },
      "execution_count": null,
      "outputs": []
    },
    {
      "cell_type": "code",
      "source": [
        "iris = datasets.load_iris()\n",
        "X = iris.data\n",
        "y = iris.target\n"
      ],
      "metadata": {
        "id": "jjWSXd25LasD"
      },
      "execution_count": null,
      "outputs": []
    },
    {
      "cell_type": "code",
      "source": [
        "# Convertir en DataFrame pour utiliser describe()\n",
        "df = pd.DataFrame(X, columns=iris.feature_names)\n",
        "\n",
        "# Afficher la description statistique des données\n",
        "print(df.head())\n",
        "\n",
        "print(df.describe())\n",
        "print(\"X is a matrix of : \", len(X), \" rows and \", len(X[0]), \" columns \")\n",
        "\n",
        "print(\"y is a vector of \", len(y))"
      ],
      "metadata": {
        "colab": {
          "base_uri": "https://localhost:8080/"
        },
        "id": "lBGXRx5UL55y",
        "outputId": "427d144e-9506-4184-c735-f802f9ded155"
      },
      "execution_count": null,
      "outputs": [
        {
          "output_type": "stream",
          "name": "stdout",
          "text": [
            "   sepal length (cm)  sepal width (cm)  petal length (cm)  petal width (cm)\n",
            "0                5.1               3.5                1.4               0.2\n",
            "1                4.9               3.0                1.4               0.2\n",
            "2                4.7               3.2                1.3               0.2\n",
            "3                4.6               3.1                1.5               0.2\n",
            "4                5.0               3.6                1.4               0.2\n",
            "       sepal length (cm)  sepal width (cm)  petal length (cm)  \\\n",
            "count         150.000000        150.000000         150.000000   \n",
            "mean            5.843333          3.057333           3.758000   \n",
            "std             0.828066          0.435866           1.765298   \n",
            "min             4.300000          2.000000           1.000000   \n",
            "25%             5.100000          2.800000           1.600000   \n",
            "50%             5.800000          3.000000           4.350000   \n",
            "75%             6.400000          3.300000           5.100000   \n",
            "max             7.900000          4.400000           6.900000   \n",
            "\n",
            "       petal width (cm)  \n",
            "count        150.000000  \n",
            "mean           1.199333  \n",
            "std            0.762238  \n",
            "min            0.100000  \n",
            "25%            0.300000  \n",
            "50%            1.300000  \n",
            "75%            1.800000  \n",
            "max            2.500000  \n",
            "X is a matrix of :  150  rows and  4  columns \n",
            "y is a vector of  150\n"
          ]
        }
      ]
    },
    {
      "cell_type": "code",
      "source": [
        "X = X[y != 0, :2]\n",
        "y = y[y != 0]\n",
        "print(\"X is a matrix of : \", len(X), \" rows and \", len(X[0]), \" columns \")"
      ],
      "metadata": {
        "colab": {
          "base_uri": "https://localhost:8080/"
        },
        "id": "U5anjMcrNOUQ",
        "outputId": "1845404e-64bc-437b-9356-caf7278b818a"
      },
      "execution_count": null,
      "outputs": [
        {
          "output_type": "stream",
          "name": "stdout",
          "text": [
            "X is a matrix of :  100  rows and  2  columns \n"
          ]
        }
      ]
    },
    {
      "cell_type": "code",
      "source": [
        "#X_moitie = X[:len(X)//2,]\n",
        "X_train, X_test, y_train, y_test = train_test_split(X, y, test_size=0.5, random_state=42)"
      ],
      "metadata": {
        "id": "xhMFrsM1OkBY"
      },
      "execution_count": null,
      "outputs": []
    },
    {
      "cell_type": "code",
      "source": [
        "# SVM lineaire\n",
        "svm_linear = svm.SVC(kernel='linear', max_iter = 10000)\n",
        "svm_linear.fit(X_train, y_train)\n",
        "#q5\n",
        "# valuer de la precision sur l'ensemble de test\n",
        "score_linear = svm_linear.score(X_test, y_test)\n",
        "print(f\"Precision du SVM lineaire : {score_linear}\")"
      ],
      "metadata": {
        "colab": {
          "base_uri": "https://localhost:8080/"
        },
        "id": "J-CiQ8_RPekB",
        "outputId": "7a127ca2-6809-4ed8-8076-72727912d541"
      },
      "execution_count": null,
      "outputs": [
        {
          "output_type": "stream",
          "name": "stdout",
          "text": [
            "Precision du SVM lineaire : 0.7\n"
          ]
        }
      ]
    },
    {
      "cell_type": "code",
      "source": [
        "# SVM avec un noyau polynomial\n",
        "svm_poly = svm.SVC(kernel='poly', degree=3)\n",
        "svm_poly.fit(X_train, y_train)\n",
        "\n",
        "# valuer la precision sur l'ensemble de test\n",
        "score_poly = svm_poly.score(X_test, y_test)\n",
        "print(f\"Precision du SVM polynomial : {score_poly}\")"
      ],
      "metadata": {
        "colab": {
          "base_uri": "https://localhost:8080/"
        },
        "id": "F8oLH5IbPquk",
        "outputId": "3790fdf0-70b3-4f20-8e6d-a188819a72c5"
      },
      "execution_count": null,
      "outputs": [
        {
          "output_type": "stream",
          "name": "stdout",
          "text": [
            "Precision du SVM polynomial : 0.78\n"
          ]
        }
      ]
    },
    {
      "cell_type": "code",
      "source": [
        "# Exemple avec un SVM linÃ©aire et diffÃ©rents paramÃ¨tres de C\n",
        "svm_linear_C = svm.SVC(kernel='linear', C=0.1)\n",
        "svm_linear_C.fit(X_train, y_train)\n",
        "score_linear_C = svm_linear_C.score(X_test, y_test)\n",
        "print(f\"PrÃ©cision du SVM linÃ©aire avec C=0.1 : {score_linear_C}\")\n",
        "\n",
        "# Exemple avec un SVM polynomial et diffÃ©rents degrÃ©s\n",
        "svm_poly_C = svm.SVC(kernel='poly', degree=3, C=0.1)\n",
        "svm_poly_C.fit(X_train, y_train)\n",
        "score_poly_C = svm_poly_C.score(X_test, y_test)\n",
        "print(f\"PrÃ©cision du SVM polynomial avec C=0.1 : {score_poly_C}\")"
      ],
      "metadata": {
        "colab": {
          "base_uri": "https://localhost:8080/"
        },
        "id": "-dCeX43hPzQ2",
        "outputId": "8a267ef5-06bd-448f-bf8d-37c9d0debe67"
      },
      "execution_count": null,
      "outputs": [
        {
          "output_type": "stream",
          "name": "stdout",
          "text": [
            "PrÃ©cision du SVM linÃ©aire avec C=0.1 : 0.4\n",
            "PrÃ©cision du SVM polynomial avec C=0.1 : 0.72\n"
          ]
        }
      ]
    },
    {
      "cell_type": "code",
      "source": [
        "# Validation croisÃ©e pour le SVM linÃ©aire\n",
        "scores_linear = cross_val_score(svm.SVC(kernel='linear'), X, y, cv=5)\n",
        "print(f\"Scores du SVM linÃ©aire avec validation croisÃ©e : {scores_linear}\")\n",
        "print(f\"Moyenne des scores : {scores_linear.mean()}\")\n",
        "\n",
        "# Validation croisÃ©e pour le SVM polynomial\n",
        "scores_poly = cross_val_score(svm.SVC(kernel='poly', degree=3), X, y, cv=5)\n",
        "print(f\"Scores du SVM polynomial avec validation croisÃ©e : {scores_poly}\")\n",
        "print(f\"Moyenne des scores : {scores_poly.mean()}\")"
      ],
      "metadata": {
        "colab": {
          "base_uri": "https://localhost:8080/"
        },
        "id": "Hfy-XG3SU3DY",
        "outputId": "d5a1f699-e661-4cfe-dabc-1a0ae7ce42ba"
      },
      "execution_count": null,
      "outputs": [
        {
          "output_type": "stream",
          "name": "stdout",
          "text": [
            "Scores du SVM linÃ©aire avec validation croisÃ©e : [0.6  0.75 0.65 0.8  0.8 ]\n",
            "Moyenne des scores : 0.72\n",
            "Scores du SVM polynomial avec validation croisÃ©e : [0.6  0.75 0.6  0.8  0.8 ]\n",
            "Moyenne des scores : 0.71\n"
          ]
        }
      ]
    },
    {
      "cell_type": "markdown",
      "source": [
        "Exercice 2"
      ],
      "metadata": {
        "id": "rhNiYoSgVOPx"
      }
    },
    {
      "cell_type": "code",
      "source": [
        "raisin = pd.read_excel(\"/content/drive/MyDrive/M2/ML/Supervised/PREP/TP3/Raisin.xlsx\")\n",
        "print(raisin.head())"
      ],
      "metadata": {
        "colab": {
          "base_uri": "https://localhost:8080/"
        },
        "id": "AHUWAqnbVQsI",
        "outputId": "20b62113-08dd-4831-ad5f-16ceb3a14dc4"
      },
      "execution_count": null,
      "outputs": [
        {
          "output_type": "stream",
          "name": "stdout",
          "text": [
            "    Area  MajorAxisLength  MinorAxisLength  Eccentricity  ConvexArea  \\\n",
            "0  87524       442.246011       253.291155      0.819738       90546   \n",
            "1  75166       406.690687       243.032436      0.801805       78789   \n",
            "2  90856       442.267048       266.328318      0.798354       93717   \n",
            "3  45928       286.540559       208.760042      0.684989       47336   \n",
            "4  79408       352.190770       290.827533      0.564011       81463   \n",
            "\n",
            "     Extent  Perimeter    Class  \n",
            "0  0.758651   1184.040  Kecimen  \n",
            "1  0.684130   1121.786  Kecimen  \n",
            "2  0.637613   1208.575  Kecimen  \n",
            "3  0.699599    844.162  Kecimen  \n",
            "4  0.792772   1073.251  Kecimen  \n"
          ]
        }
      ]
    },
    {
      "cell_type": "code",
      "source": [
        "raisin[\"Class\"].replace({\"Kecimen\":0,\"Besni\":1},inplace=True)\n",
        "raisin[\"Class\"]"
      ],
      "metadata": {
        "colab": {
          "base_uri": "https://localhost:8080/",
          "height": 634
        },
        "id": "pvV2xNTKbRfG",
        "outputId": "57d1881a-38c9-48fc-a6e0-18fa0a5bc26c"
      },
      "execution_count": null,
      "outputs": [
        {
          "output_type": "stream",
          "name": "stderr",
          "text": [
            "<ipython-input-55-4d004d65fcbe>:1: FutureWarning: A value is trying to be set on a copy of a DataFrame or Series through chained assignment using an inplace method.\n",
            "The behavior will change in pandas 3.0. This inplace method will never work because the intermediate object on which we are setting values always behaves as a copy.\n",
            "\n",
            "For example, when doing 'df[col].method(value, inplace=True)', try using 'df.method({col: value}, inplace=True)' or df[col] = df[col].method(value) instead, to perform the operation inplace on the original object.\n",
            "\n",
            "\n",
            "  raisin[\"Class\"].replace({\"Kecimen\":0,\"Besni\":1},inplace=True)\n",
            "<ipython-input-55-4d004d65fcbe>:1: FutureWarning: Downcasting behavior in `replace` is deprecated and will be removed in a future version. To retain the old behavior, explicitly call `result.infer_objects(copy=False)`. To opt-in to the future behavior, set `pd.set_option('future.no_silent_downcasting', True)`\n",
            "  raisin[\"Class\"].replace({\"Kecimen\":0,\"Besni\":1},inplace=True)\n"
          ]
        },
        {
          "output_type": "execute_result",
          "data": {
            "text/plain": [
              "0      0\n",
              "1      0\n",
              "2      0\n",
              "3      0\n",
              "4      0\n",
              "      ..\n",
              "895    1\n",
              "896    1\n",
              "897    1\n",
              "898    1\n",
              "899    1\n",
              "Name: Class, Length: 900, dtype: int64"
            ],
            "text/html": [
              "<div>\n",
              "<style scoped>\n",
              "    .dataframe tbody tr th:only-of-type {\n",
              "        vertical-align: middle;\n",
              "    }\n",
              "\n",
              "    .dataframe tbody tr th {\n",
              "        vertical-align: top;\n",
              "    }\n",
              "\n",
              "    .dataframe thead th {\n",
              "        text-align: right;\n",
              "    }\n",
              "</style>\n",
              "<table border=\"1\" class=\"dataframe\">\n",
              "  <thead>\n",
              "    <tr style=\"text-align: right;\">\n",
              "      <th></th>\n",
              "      <th>Class</th>\n",
              "    </tr>\n",
              "  </thead>\n",
              "  <tbody>\n",
              "    <tr>\n",
              "      <th>0</th>\n",
              "      <td>0</td>\n",
              "    </tr>\n",
              "    <tr>\n",
              "      <th>1</th>\n",
              "      <td>0</td>\n",
              "    </tr>\n",
              "    <tr>\n",
              "      <th>2</th>\n",
              "      <td>0</td>\n",
              "    </tr>\n",
              "    <tr>\n",
              "      <th>3</th>\n",
              "      <td>0</td>\n",
              "    </tr>\n",
              "    <tr>\n",
              "      <th>4</th>\n",
              "      <td>0</td>\n",
              "    </tr>\n",
              "    <tr>\n",
              "      <th>...</th>\n",
              "      <td>...</td>\n",
              "    </tr>\n",
              "    <tr>\n",
              "      <th>895</th>\n",
              "      <td>1</td>\n",
              "    </tr>\n",
              "    <tr>\n",
              "      <th>896</th>\n",
              "      <td>1</td>\n",
              "    </tr>\n",
              "    <tr>\n",
              "      <th>897</th>\n",
              "      <td>1</td>\n",
              "    </tr>\n",
              "    <tr>\n",
              "      <th>898</th>\n",
              "      <td>1</td>\n",
              "    </tr>\n",
              "    <tr>\n",
              "      <th>899</th>\n",
              "      <td>1</td>\n",
              "    </tr>\n",
              "  </tbody>\n",
              "</table>\n",
              "<p>900 rows × 1 columns</p>\n",
              "</div><br><label><b>dtype:</b> int64</label>"
            ]
          },
          "metadata": {},
          "execution_count": 55
        }
      ]
    },
    {
      "cell_type": "code",
      "source": [
        "sum(raisin[\"Class\"]==0)/len(raisin[\"Class\"])\n"
      ],
      "metadata": {
        "colab": {
          "base_uri": "https://localhost:8080/"
        },
        "id": "V2rYNgBhdqzo",
        "outputId": "8e59b6fe-b6ab-47e4-9b74-b9f5fed388c4"
      },
      "execution_count": null,
      "outputs": [
        {
          "output_type": "execute_result",
          "data": {
            "text/plain": [
              "0.5"
            ]
          },
          "metadata": {},
          "execution_count": 58
        }
      ]
    },
    {
      "cell_type": "code",
      "source": [
        "sum(raisin[\"Class\"]==1)/len(raisin[\"Class\"])"
      ],
      "metadata": {
        "colab": {
          "base_uri": "https://localhost:8080/"
        },
        "id": "v_fTAp04fjrq",
        "outputId": "6b5f6c98-5c8c-4190-ea50-c5a0b717ea9d"
      },
      "execution_count": null,
      "outputs": [
        {
          "output_type": "execute_result",
          "data": {
            "text/plain": [
              "0.5"
            ]
          },
          "metadata": {},
          "execution_count": 59
        }
      ]
    },
    {
      "cell_type": "code",
      "source": [
        "X = raisin.drop('Class',axis=1)\n",
        "\n",
        "y = raisin['Class']"
      ],
      "metadata": {
        "id": "s1BfAStVfkyV"
      },
      "execution_count": null,
      "outputs": []
    },
    {
      "cell_type": "code",
      "source": [
        "X_train, X_test, y_train, y_test = train_test_split(X,y, test_size=1/3, shuffle=True,random_state = 42)"
      ],
      "metadata": {
        "id": "f0sKcSIgfuIO"
      },
      "execution_count": null,
      "outputs": []
    },
    {
      "cell_type": "code",
      "source": [
        "sum(y_test==0)/len(y_test)"
      ],
      "metadata": {
        "colab": {
          "base_uri": "https://localhost:8080/"
        },
        "id": "x1ZtUesqf05C",
        "outputId": "5a37d246-65d4-4ac7-c899-0d83e2181047"
      },
      "execution_count": null,
      "outputs": [
        {
          "output_type": "execute_result",
          "data": {
            "text/plain": [
              "0.5166666666666667"
            ]
          },
          "metadata": {},
          "execution_count": 62
        }
      ]
    },
    {
      "cell_type": "code",
      "source": [
        "sum(y_test==1)/len(y_test)"
      ],
      "metadata": {
        "colab": {
          "base_uri": "https://localhost:8080/"
        },
        "id": "bEZr2zzsf2qP",
        "outputId": "864c4693-f108-444d-9709-fa5008ab743b"
      },
      "execution_count": null,
      "outputs": [
        {
          "output_type": "execute_result",
          "data": {
            "text/plain": [
              "0.48333333333333334"
            ]
          },
          "metadata": {},
          "execution_count": 63
        }
      ]
    },
    {
      "cell_type": "code",
      "source": [
        "sum(y_train==0)/len(y_train)"
      ],
      "metadata": {
        "colab": {
          "base_uri": "https://localhost:8080/"
        },
        "id": "A7RVO6PBgArI",
        "outputId": "09397516-7001-480b-cf3e-096fa6ccaa96"
      },
      "execution_count": null,
      "outputs": [
        {
          "output_type": "execute_result",
          "data": {
            "text/plain": [
              "0.49166666666666664"
            ]
          },
          "metadata": {},
          "execution_count": 65
        }
      ]
    },
    {
      "cell_type": "code",
      "source": [
        "sum(y_train==1)/len(y_train)"
      ],
      "metadata": {
        "colab": {
          "base_uri": "https://localhost:8080/"
        },
        "id": "oFbu_z79f3e3",
        "outputId": "597c2175-06e6-4226-f13f-ad5cd969b47d"
      },
      "execution_count": null,
      "outputs": [
        {
          "output_type": "execute_result",
          "data": {
            "text/plain": [
              "0.5083333333333333"
            ]
          },
          "metadata": {},
          "execution_count": 64
        }
      ]
    },
    {
      "cell_type": "code",
      "source": [
        "C = [0.1, 1, 5, 10, 50, 100]\n",
        "\n",
        "linear_scores =[]\n",
        "\n",
        "for i in C:\n",
        "\n",
        "  clf_linear = LinearSVC(C=i, max_iter=100000)\n",
        "  clf_linear.fit(X_train, y_train)\n",
        "\n",
        "  pred_clf_linear = clf_linear.predict(X_test)\n",
        "\n",
        "  cross_linear = cross_val_score(clf_linear, X_train, y_train, cv=5)\n",
        "\n",
        "  linear_scores.append(np.mean(cross_linear))\n",
        "\n",
        "\n",
        "linear_scores"
      ],
      "metadata": {
        "colab": {
          "base_uri": "https://localhost:8080/"
        },
        "id": "rLTnQv4bgFs2",
        "outputId": "c0cb124c-bd10-49c2-baac-b335b3665521"
      },
      "execution_count": null,
      "outputs": [
        {
          "output_type": "execute_result",
          "data": {
            "text/plain": [
              "[0.8616666666666667,\n",
              " 0.8616666666666667,\n",
              " 0.8616666666666667,\n",
              " 0.8616666666666667,\n",
              " 0.8616666666666667,\n",
              " 0.8616666666666667]"
            ]
          },
          "metadata": {},
          "execution_count": 73
        }
      ]
    },
    {
      "cell_type": "code",
      "source": [
        "plt.plot(C,linear_scores)\n",
        "\n",
        "plt.xlabel(\"Valeurs de C\")\n",
        "plt.ylabel(\"Moyenne Validation Croisée\")\n",
        "\n",
        "plt.show()"
      ],
      "metadata": {
        "colab": {
          "base_uri": "https://localhost:8080/",
          "height": 449
        },
        "id": "Bblab3FpifLo",
        "outputId": "a49d1d8e-7ffa-4880-afd4-dd1b8236f9aa"
      },
      "execution_count": null,
      "outputs": [
        {
          "output_type": "display_data",
          "data": {
            "text/plain": [
              "<Figure size 640x480 with 1 Axes>"
            ],
            "image/png": "[encoded data removed]"
          },
          "metadata": {}
        }
      ]
    },
    {
      "cell_type": "code",
      "source": [
        "clf_linear_best = LinearSVC(C=0.1)\n",
        "clf_linear_best.fit(X_train, y_train)\n",
        "\n",
        "pred_clf_linear_best = clf_linear_best.predict(X_test)\n",
        "\n",
        "pred_clf_linear_best"
      ],
      "metadata": {
        "colab": {
          "base_uri": "https://localhost:8080/"
        },
        "id": "lZZC_QWpi_rU",
        "outputId": "430fd8b8-4b62-403c-9b24-fb40853537f9"
      },
      "execution_count": null,
      "outputs": [
        {
          "output_type": "execute_result",
          "data": {
            "text/plain": [
              "array([1, 0, 0, 1, 0, 0, 0, 0, 0, 0, 1, 1, 1, 0, 1, 1, 1, 0, 0, 1, 0, 1,\n",
              "       0, 0, 1, 0, 1, 1, 1, 1, 0, 1, 1, 1, 1, 1, 0, 1, 0, 0, 0, 0, 0, 0,\n",
              "       1, 1, 0, 1, 1, 0, 1, 0, 1, 0, 0, 0, 0, 1, 0, 1, 1, 0, 1, 0, 0, 0,\n",
              "       1, 1, 0, 0, 1, 1, 0, 0, 1, 1, 0, 1, 0, 1, 1, 0, 1, 0, 1, 1, 0, 1,\n",
              "       0, 1, 0, 0, 1, 1, 1, 1, 0, 0, 1, 1, 1, 0, 1, 1, 1, 0, 1, 0, 1, 0,\n",
              "       1, 1, 1, 0, 1, 0, 0, 0, 0, 1, 0, 0, 0, 0, 1, 1, 0, 1, 0, 0, 1, 1,\n",
              "       1, 0, 1, 0, 1, 1, 1, 0, 0, 0, 1, 0, 1, 0, 1, 0, 1, 0, 0, 1, 0, 1,\n",
              "       0, 0, 0, 0, 0, 0, 0, 1, 0, 0, 1, 1, 0, 1, 1, 1, 0, 0, 0, 0, 1, 1,\n",
              "       1, 1, 0, 0, 1, 0, 0, 1, 1, 1, 0, 1, 0, 0, 0, 0, 1, 1, 0, 0, 1, 0,\n",
              "       1, 0, 1, 1, 0, 0, 1, 1, 0, 1, 1, 1, 1, 1, 0, 1, 1, 1, 1, 0, 0, 1,\n",
              "       1, 0, 0, 0, 0, 1, 1, 1, 0, 0, 0, 1, 0, 1, 1, 1, 1, 0, 0, 1, 1, 1,\n",
              "       0, 0, 0, 0, 0, 1, 1, 0, 0, 0, 1, 0, 0, 0, 0, 0, 1, 1, 0, 0, 0, 1,\n",
              "       1, 1, 1, 1, 0, 0, 1, 1, 0, 0, 1, 1, 1, 1, 0, 1, 0, 0, 1, 0, 0, 0,\n",
              "       1, 0, 0, 0, 1, 1, 0, 1, 1, 1, 0, 0, 0, 1])"
            ]
          },
          "metadata": {},
          "execution_count": 74
        }
      ]
    },
    {
      "cell_type": "code",
      "source": [
        "accuracy_score(y_test,pred_clf_linear_best)\n"
      ],
      "metadata": {
        "colab": {
          "base_uri": "https://localhost:8080/"
        },
        "id": "9UY6Y15yjkb9",
        "outputId": "a55c38d3-1004-4303-ecbc-d7922da4ad1c"
      },
      "execution_count": null,
      "outputs": [
        {
          "output_type": "execute_result",
          "data": {
            "text/plain": [
              "0.85"
            ]
          },
          "metadata": {},
          "execution_count": 78
        }
      ]
    },
    {
      "cell_type": "code",
      "source": [
        "confusion_matrix(y_test,pred_clf_linear_best)#a matrice de confusion."
      ],
      "metadata": {
        "colab": {
          "base_uri": "https://localhost:8080/"
        },
        "id": "rT0CD9dtj8y2",
        "outputId": "0b724f92-00be-461b-eac0-49576a8775ec"
      },
      "execution_count": null,
      "outputs": [
        {
          "output_type": "execute_result",
          "data": {
            "text/plain": [
              "array([[131,  24],\n",
              "       [ 21, 124]])"
            ]
          },
          "metadata": {},
          "execution_count": 79
        }
      ]
    },
    {
      "cell_type": "markdown",
      "source": [
        "Q6"
      ],
      "metadata": {
        "id": "9xM0ZBiCowgM"
      }
    },
    {
      "cell_type": "code",
      "source": [
        "from sklearn.preprocessing import StandardScaler\n",
        "\n",
        "degrees = [1,2,3,4]\n",
        "# Normaliser les données d'apprentissage\n",
        "scaler = StandardScaler()\n",
        "X_train_scaled = scaler.fit_transform(X_train)  # Applique la normalisation sur X_train\n",
        "\n",
        "svc_scores = []\n",
        "\n",
        "for i in degrees:\n",
        "\n",
        "  clf_poly = svm.SVC(C=0.1, kernel='poly', degree=i, gamma=2, max_iter=100000)\n",
        "  clf_poly.fit(X_train_scaled, y_train)\n",
        "\n",
        "  cross_poly = cross_val_score(clf_poly, X_train_scaled, y_train, cv=5)\n",
        "  svc_scores.append(np.mean(cross_poly))"
      ],
      "metadata": {
        "colab": {
          "base_uri": "https://localhost:8080/"
        },
        "id": "ghRBj5f4owA9",
        "outputId": "1573498d-9505-4609-813e-07f564f1a1ac"
      },
      "execution_count": null,
      "outputs": [
        {
          "output_type": "stream",
          "name": "stderr",
          "text": [
            "/usr/local/lib/python3.10/dist-packages/sklearn/svm/_base.py:297: ConvergenceWarning: Solver terminated early (max_iter=100000).  Consider pre-processing your data with StandardScaler or MinMaxScaler.\n",
            "  warnings.warn(\n",
            "/usr/local/lib/python3.10/dist-packages/sklearn/svm/_base.py:297: ConvergenceWarning: Solver terminated early (max_iter=100000).  Consider pre-processing your data with StandardScaler or MinMaxScaler.\n",
            "  warnings.warn(\n",
            "/usr/local/lib/python3.10/dist-packages/sklearn/svm/_base.py:297: ConvergenceWarning: Solver terminated early (max_iter=100000).  Consider pre-processing your data with StandardScaler or MinMaxScaler.\n",
            "  warnings.warn(\n",
            "/usr/local/lib/python3.10/dist-packages/sklearn/svm/_base.py:297: ConvergenceWarning: Solver terminated early (max_iter=100000).  Consider pre-processing your data with StandardScaler or MinMaxScaler.\n",
            "  warnings.warn(\n",
            "/usr/local/lib/python3.10/dist-packages/sklearn/svm/_base.py:297: ConvergenceWarning: Solver terminated early (max_iter=100000).  Consider pre-processing your data with StandardScaler or MinMaxScaler.\n",
            "  warnings.warn(\n",
            "/usr/local/lib/python3.10/dist-packages/sklearn/svm/_base.py:297: ConvergenceWarning: Solver terminated early (max_iter=100000).  Consider pre-processing your data with StandardScaler or MinMaxScaler.\n",
            "  warnings.warn(\n"
          ]
        }
      ]
    },
    {
      "cell_type": "code",
      "source": [],
      "metadata": {
        "id": "RtBJjvdij-JW"
      },
      "execution_count": null,
      "outputs": []
    }
  ]
}